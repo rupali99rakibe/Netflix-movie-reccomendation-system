{
 "cells": [
  {
   "cell_type": "code",
   "execution_count": 1,
   "id": "3880fb6f-cbe8-4248-979b-48a9ef91c88b",
   "metadata": {},
   "outputs": [],
   "source": [
    "# import pandas to deal with dataframe \n",
    "# import warnings to avoid unwanted/unneccesary instructios\n",
    "# import CountVectorizer for transform a data in understandable to machines\n",
    "# import cosine similarity for to find relation between internal sentences"
   ]
  },
  {
   "cell_type": "code",
   "execution_count": 2,
   "id": "a489005d-70c4-4453-a304-148905aa2558",
   "metadata": {},
   "outputs": [],
   "source": [
    "import pandas as pd\n",
    "import warnings\n",
    "warnings.filterwarnings('ignore')\n",
    "from sklearn.feature_extraction.text import CountVectorizer\n",
    "from sklearn.metrics.pairwise import cosine_similarity"
   ]
  },
  {
   "cell_type": "code",
   "execution_count": 3,
   "id": "fccb79e5-6243-402c-97af-f6555731e334",
   "metadata": {},
   "outputs": [
    {
     "data": {
      "text/html": [
       "<div>\n",
       "<style scoped>\n",
       "    .dataframe tbody tr th:only-of-type {\n",
       "        vertical-align: middle;\n",
       "    }\n",
       "\n",
       "    .dataframe tbody tr th {\n",
       "        vertical-align: top;\n",
       "    }\n",
       "\n",
       "    .dataframe thead th {\n",
       "        text-align: right;\n",
       "    }\n",
       "</style>\n",
       "<table border=\"1\" class=\"dataframe\">\n",
       "  <thead>\n",
       "    <tr style=\"text-align: right;\">\n",
       "      <th></th>\n",
       "      <th>show_id</th>\n",
       "      <th>type</th>\n",
       "      <th>title</th>\n",
       "      <th>director</th>\n",
       "      <th>cast</th>\n",
       "      <th>country</th>\n",
       "      <th>date_added</th>\n",
       "      <th>release_year</th>\n",
       "      <th>rating</th>\n",
       "      <th>duration</th>\n",
       "      <th>listed_in</th>\n",
       "      <th>description</th>\n",
       "    </tr>\n",
       "  </thead>\n",
       "  <tbody>\n",
       "    <tr>\n",
       "      <th>0</th>\n",
       "      <td>s1</td>\n",
       "      <td>Movie</td>\n",
       "      <td>Dick Johnson Is Dead</td>\n",
       "      <td>Kirsten Johnson</td>\n",
       "      <td>NaN</td>\n",
       "      <td>United States</td>\n",
       "      <td>September 25, 2021</td>\n",
       "      <td>2020</td>\n",
       "      <td>PG-13</td>\n",
       "      <td>90 min</td>\n",
       "      <td>Documentaries</td>\n",
       "      <td>As her father nears the end of his life, filmm...</td>\n",
       "    </tr>\n",
       "    <tr>\n",
       "      <th>1</th>\n",
       "      <td>s2</td>\n",
       "      <td>TV Show</td>\n",
       "      <td>Blood &amp; Water</td>\n",
       "      <td>NaN</td>\n",
       "      <td>Ama Qamata, Khosi Ngema, Gail Mabalane, Thaban...</td>\n",
       "      <td>South Africa</td>\n",
       "      <td>September 24, 2021</td>\n",
       "      <td>2021</td>\n",
       "      <td>TV-MA</td>\n",
       "      <td>2 Seasons</td>\n",
       "      <td>International TV Shows, TV Dramas, TV Mysteries</td>\n",
       "      <td>After crossing paths at a party, a Cape Town t...</td>\n",
       "    </tr>\n",
       "    <tr>\n",
       "      <th>2</th>\n",
       "      <td>s3</td>\n",
       "      <td>TV Show</td>\n",
       "      <td>Ganglands</td>\n",
       "      <td>Julien Leclercq</td>\n",
       "      <td>Sami Bouajila, Tracy Gotoas, Samuel Jouy, Nabi...</td>\n",
       "      <td>NaN</td>\n",
       "      <td>September 24, 2021</td>\n",
       "      <td>2021</td>\n",
       "      <td>TV-MA</td>\n",
       "      <td>1 Season</td>\n",
       "      <td>Crime TV Shows, International TV Shows, TV Act...</td>\n",
       "      <td>To protect his family from a powerful drug lor...</td>\n",
       "    </tr>\n",
       "    <tr>\n",
       "      <th>3</th>\n",
       "      <td>s4</td>\n",
       "      <td>TV Show</td>\n",
       "      <td>Jailbirds New Orleans</td>\n",
       "      <td>NaN</td>\n",
       "      <td>NaN</td>\n",
       "      <td>NaN</td>\n",
       "      <td>September 24, 2021</td>\n",
       "      <td>2021</td>\n",
       "      <td>TV-MA</td>\n",
       "      <td>1 Season</td>\n",
       "      <td>Docuseries, Reality TV</td>\n",
       "      <td>Feuds, flirtations and toilet talk go down amo...</td>\n",
       "    </tr>\n",
       "    <tr>\n",
       "      <th>4</th>\n",
       "      <td>s5</td>\n",
       "      <td>TV Show</td>\n",
       "      <td>Kota Factory</td>\n",
       "      <td>NaN</td>\n",
       "      <td>Mayur More, Jitendra Kumar, Ranjan Raj, Alam K...</td>\n",
       "      <td>India</td>\n",
       "      <td>September 24, 2021</td>\n",
       "      <td>2021</td>\n",
       "      <td>TV-MA</td>\n",
       "      <td>2 Seasons</td>\n",
       "      <td>International TV Shows, Romantic TV Shows, TV ...</td>\n",
       "      <td>In a city of coaching centers known to train I...</td>\n",
       "    </tr>\n",
       "  </tbody>\n",
       "</table>\n",
       "</div>"
      ],
      "text/plain": [
       "  show_id     type                  title         director  \\\n",
       "0      s1    Movie   Dick Johnson Is Dead  Kirsten Johnson   \n",
       "1      s2  TV Show          Blood & Water              NaN   \n",
       "2      s3  TV Show              Ganglands  Julien Leclercq   \n",
       "3      s4  TV Show  Jailbirds New Orleans              NaN   \n",
       "4      s5  TV Show           Kota Factory              NaN   \n",
       "\n",
       "                                                cast        country  \\\n",
       "0                                                NaN  United States   \n",
       "1  Ama Qamata, Khosi Ngema, Gail Mabalane, Thaban...   South Africa   \n",
       "2  Sami Bouajila, Tracy Gotoas, Samuel Jouy, Nabi...            NaN   \n",
       "3                                                NaN            NaN   \n",
       "4  Mayur More, Jitendra Kumar, Ranjan Raj, Alam K...          India   \n",
       "\n",
       "           date_added  release_year rating   duration  \\\n",
       "0  September 25, 2021          2020  PG-13     90 min   \n",
       "1  September 24, 2021          2021  TV-MA  2 Seasons   \n",
       "2  September 24, 2021          2021  TV-MA   1 Season   \n",
       "3  September 24, 2021          2021  TV-MA   1 Season   \n",
       "4  September 24, 2021          2021  TV-MA  2 Seasons   \n",
       "\n",
       "                                           listed_in  \\\n",
       "0                                      Documentaries   \n",
       "1    International TV Shows, TV Dramas, TV Mysteries   \n",
       "2  Crime TV Shows, International TV Shows, TV Act...   \n",
       "3                             Docuseries, Reality TV   \n",
       "4  International TV Shows, Romantic TV Shows, TV ...   \n",
       "\n",
       "                                         description  \n",
       "0  As her father nears the end of his life, filmm...  \n",
       "1  After crossing paths at a party, a Cape Town t...  \n",
       "2  To protect his family from a powerful drug lor...  \n",
       "3  Feuds, flirtations and toilet talk go down amo...  \n",
       "4  In a city of coaching centers known to train I...  "
      ]
     },
     "execution_count": 3,
     "metadata": {},
     "output_type": "execute_result"
    }
   ],
   "source": [
    "# read a data frame to work with data \n",
    "df = pd.read_csv(\"D:\\\\practice_data_set\\\\netflix_titles.csv\")\n",
    "df.head()"
   ]
  },
  {
   "cell_type": "code",
   "execution_count": 4,
   "id": "5ac48ab4-2544-4e94-b9b8-e4e7b192e57c",
   "metadata": {},
   "outputs": [
    {
     "data": {
      "text/plain": [
       "(8807, 12)"
      ]
     },
     "execution_count": 4,
     "metadata": {},
     "output_type": "execute_result"
    }
   ],
   "source": [
    "# check dimensionality/shape of data frame\n",
    "df.shape"
   ]
  },
  {
   "cell_type": "code",
   "execution_count": 5,
   "id": "8c0455ed-805b-45e2-a9ae-e0b9161eae22",
   "metadata": {},
   "outputs": [
    {
     "name": "stdout",
     "output_type": "stream",
     "text": [
      "<class 'pandas.core.frame.DataFrame'>\n",
      "RangeIndex: 8807 entries, 0 to 8806\n",
      "Data columns (total 12 columns):\n",
      " #   Column        Non-Null Count  Dtype \n",
      "---  ------        --------------  ----- \n",
      " 0   show_id       8807 non-null   object\n",
      " 1   type          8807 non-null   object\n",
      " 2   title         8807 non-null   object\n",
      " 3   director      6173 non-null   object\n",
      " 4   cast          7982 non-null   object\n",
      " 5   country       7976 non-null   object\n",
      " 6   date_added    8797 non-null   object\n",
      " 7   release_year  8807 non-null   int64 \n",
      " 8   rating        8803 non-null   object\n",
      " 9   duration      8804 non-null   object\n",
      " 10  listed_in     8807 non-null   object\n",
      " 11  description   8807 non-null   object\n",
      "dtypes: int64(1), object(11)\n",
      "memory usage: 825.8+ KB\n"
     ]
    }
   ],
   "source": [
    "# check information about data set\n",
    "df.info()"
   ]
  },
  {
   "cell_type": "code",
   "execution_count": 6,
   "id": "22d33f77-bbdf-4631-8359-1b770e6208ba",
   "metadata": {},
   "outputs": [
    {
     "data": {
      "text/html": [
       "<div>\n",
       "<style scoped>\n",
       "    .dataframe tbody tr th:only-of-type {\n",
       "        vertical-align: middle;\n",
       "    }\n",
       "\n",
       "    .dataframe tbody tr th {\n",
       "        vertical-align: top;\n",
       "    }\n",
       "\n",
       "    .dataframe thead th {\n",
       "        text-align: right;\n",
       "    }\n",
       "</style>\n",
       "<table border=\"1\" class=\"dataframe\">\n",
       "  <thead>\n",
       "    <tr style=\"text-align: right;\">\n",
       "      <th></th>\n",
       "      <th>type</th>\n",
       "      <th>title</th>\n",
       "      <th>director</th>\n",
       "      <th>cast</th>\n",
       "      <th>description</th>\n",
       "    </tr>\n",
       "  </thead>\n",
       "  <tbody>\n",
       "    <tr>\n",
       "      <th>0</th>\n",
       "      <td>Movie</td>\n",
       "      <td>Dick Johnson Is Dead</td>\n",
       "      <td>Kirsten Johnson</td>\n",
       "      <td>NaN</td>\n",
       "      <td>As her father nears the end of his life, filmm...</td>\n",
       "    </tr>\n",
       "    <tr>\n",
       "      <th>1</th>\n",
       "      <td>TV Show</td>\n",
       "      <td>Blood &amp; Water</td>\n",
       "      <td>NaN</td>\n",
       "      <td>Ama Qamata, Khosi Ngema, Gail Mabalane, Thaban...</td>\n",
       "      <td>After crossing paths at a party, a Cape Town t...</td>\n",
       "    </tr>\n",
       "    <tr>\n",
       "      <th>2</th>\n",
       "      <td>TV Show</td>\n",
       "      <td>Ganglands</td>\n",
       "      <td>Julien Leclercq</td>\n",
       "      <td>Sami Bouajila, Tracy Gotoas, Samuel Jouy, Nabi...</td>\n",
       "      <td>To protect his family from a powerful drug lor...</td>\n",
       "    </tr>\n",
       "    <tr>\n",
       "      <th>3</th>\n",
       "      <td>TV Show</td>\n",
       "      <td>Jailbirds New Orleans</td>\n",
       "      <td>NaN</td>\n",
       "      <td>NaN</td>\n",
       "      <td>Feuds, flirtations and toilet talk go down amo...</td>\n",
       "    </tr>\n",
       "    <tr>\n",
       "      <th>4</th>\n",
       "      <td>TV Show</td>\n",
       "      <td>Kota Factory</td>\n",
       "      <td>NaN</td>\n",
       "      <td>Mayur More, Jitendra Kumar, Ranjan Raj, Alam K...</td>\n",
       "      <td>In a city of coaching centers known to train I...</td>\n",
       "    </tr>\n",
       "  </tbody>\n",
       "</table>\n",
       "</div>"
      ],
      "text/plain": [
       "      type                  title         director  \\\n",
       "0    Movie   Dick Johnson Is Dead  Kirsten Johnson   \n",
       "1  TV Show          Blood & Water              NaN   \n",
       "2  TV Show              Ganglands  Julien Leclercq   \n",
       "3  TV Show  Jailbirds New Orleans              NaN   \n",
       "4  TV Show           Kota Factory              NaN   \n",
       "\n",
       "                                                cast  \\\n",
       "0                                                NaN   \n",
       "1  Ama Qamata, Khosi Ngema, Gail Mabalane, Thaban...   \n",
       "2  Sami Bouajila, Tracy Gotoas, Samuel Jouy, Nabi...   \n",
       "3                                                NaN   \n",
       "4  Mayur More, Jitendra Kumar, Ranjan Raj, Alam K...   \n",
       "\n",
       "                                         description  \n",
       "0  As her father nears the end of his life, filmm...  \n",
       "1  After crossing paths at a party, a Cape Town t...  \n",
       "2  To protect his family from a powerful drug lor...  \n",
       "3  Feuds, flirtations and toilet talk go down amo...  \n",
       "4  In a city of coaching centers known to train I...  "
      ]
     },
     "execution_count": 6,
     "metadata": {},
     "output_type": "execute_result"
    }
   ],
   "source": [
    "# Create a new dataframe collect only required sample\n",
    "df1 = df[['type','title','director','cast','description']]\n",
    "df1.head()"
   ]
  },
  {
   "cell_type": "code",
   "execution_count": 7,
   "id": "045efb9e-9cfe-4775-aa66-996bacc9a2c6",
   "metadata": {},
   "outputs": [
    {
     "data": {
      "text/plain": [
       "0"
      ]
     },
     "execution_count": 7,
     "metadata": {},
     "output_type": "execute_result"
    }
   ],
   "source": [
    "# Check how many values in our dataframe are duplicated\n",
    "df1.duplicated().sum()"
   ]
  },
  {
   "cell_type": "code",
   "execution_count": 8,
   "id": "25237151-35b9-4c1b-9a0d-4744a9f090c4",
   "metadata": {},
   "outputs": [
    {
     "data": {
      "text/plain": [
       "type              0\n",
       "title             0\n",
       "director       2634\n",
       "cast            825\n",
       "description       0\n",
       "dtype: int64"
      ]
     },
     "execution_count": 8,
     "metadata": {},
     "output_type": "execute_result"
    }
   ],
   "source": [
    "# to find a null values in dataframe and avoiding a boolean use a sum function \n",
    "df1.isnull().sum()"
   ]
  },
  {
   "cell_type": "code",
   "execution_count": 9,
   "id": "a289eec4-c62d-4387-9ee0-3d6ea3fc7827",
   "metadata": {},
   "outputs": [],
   "source": [
    "# with the help of fillna fill a blank values, here just enter a empty string because in count vectorizer not calculate space\n",
    "df1.fillna(' ',inplace=True)"
   ]
  },
  {
   "cell_type": "code",
   "execution_count": 10,
   "id": "b059f0c2-87c0-416c-bd22-ae909844686b",
   "metadata": {},
   "outputs": [
    {
     "data": {
      "text/plain": [
       "type           0\n",
       "title          0\n",
       "director       0\n",
       "cast           0\n",
       "description    0\n",
       "dtype: int64"
      ]
     },
     "execution_count": 10,
     "metadata": {},
     "output_type": "execute_result"
    }
   ],
   "source": [
    "df1.isnull().sum()"
   ]
  },
  {
   "cell_type": "code",
   "execution_count": 11,
   "id": "b933513d-ae76-4194-bcbc-229d83468995",
   "metadata": {},
   "outputs": [
    {
     "data": {
      "text/plain": [
       "0       Dick Johnson Is Dead Kirsten Johnson   As her ...\n",
       "1       Blood & Water   Ama Qamata, Khosi Ngema, Gail ...\n",
       "2       Ganglands Julien Leclercq Sami Bouajila, Tracy...\n",
       "3       Jailbirds New Orleans     Feuds, flirtations a...\n",
       "4       Kota Factory   Mayur More, Jitendra Kumar, Ran...\n",
       "                              ...                        \n",
       "8802    Zodiac David Fincher Mark Ruffalo, Jake Gyllen...\n",
       "8803    Zombie Dumb     While living alone in a spooky...\n",
       "8804    Zombieland Ruben Fleischer Jesse Eisenberg, Wo...\n",
       "8805    Zoom Peter Hewitt Tim Allen, Courteney Cox, Ch...\n",
       "8806    Zubaan Mozez Singh Vicky Kaushal, Sarah-Jane D...\n",
       "Length: 8807, dtype: object"
      ]
     },
     "execution_count": 11,
     "metadata": {},
     "output_type": "execute_result"
    }
   ],
   "source": [
    "# Combined a features find correct relations in between sentences\n",
    "combined_features = df1['title'] +' '+ df1['director'] +' '+ df1['cast'] +' '+ df1['description']\n",
    "combined_features"
   ]
  },
  {
   "cell_type": "code",
   "execution_count": 12,
   "id": "489b103a-b0c2-42a2-84a6-0421d82a5427",
   "metadata": {},
   "outputs": [
    {
     "data": {
      "text/plain": [
       "'Dick Johnson Is Dead Kirsten Johnson   As her father nears the end of his life, filmmaker Kirsten Johnson stages his death in inventive and comical ways to help them both face the inevitable.'"
      ]
     },
     "execution_count": 12,
     "metadata": {},
     "output_type": "execute_result"
    }
   ],
   "source": [
    "# access only zeroth index sentence\n",
    "combined_features[0]"
   ]
  },
  {
   "cell_type": "code",
   "execution_count": 13,
   "id": "60ae74e0-cd92-4716-a838-63fa72a3cfc1",
   "metadata": {},
   "outputs": [
    {
     "data": {
      "text/html": [
       "<div>\n",
       "<style scoped>\n",
       "    .dataframe tbody tr th:only-of-type {\n",
       "        vertical-align: middle;\n",
       "    }\n",
       "\n",
       "    .dataframe tbody tr th {\n",
       "        vertical-align: top;\n",
       "    }\n",
       "\n",
       "    .dataframe thead th {\n",
       "        text-align: right;\n",
       "    }\n",
       "</style>\n",
       "<table border=\"1\" class=\"dataframe\">\n",
       "  <thead>\n",
       "    <tr style=\"text-align: right;\">\n",
       "      <th></th>\n",
       "      <th>type</th>\n",
       "      <th>title</th>\n",
       "      <th>director</th>\n",
       "      <th>cast</th>\n",
       "      <th>description</th>\n",
       "      <th>combined_features</th>\n",
       "    </tr>\n",
       "  </thead>\n",
       "  <tbody>\n",
       "    <tr>\n",
       "      <th>0</th>\n",
       "      <td>Movie</td>\n",
       "      <td>Dick Johnson Is Dead</td>\n",
       "      <td>Kirsten Johnson</td>\n",
       "      <td></td>\n",
       "      <td>As her father nears the end of his life, filmm...</td>\n",
       "      <td>Dick Johnson Is Dead Kirsten Johnson   As her ...</td>\n",
       "    </tr>\n",
       "    <tr>\n",
       "      <th>1</th>\n",
       "      <td>TV Show</td>\n",
       "      <td>Blood &amp; Water</td>\n",
       "      <td></td>\n",
       "      <td>Ama Qamata, Khosi Ngema, Gail Mabalane, Thaban...</td>\n",
       "      <td>After crossing paths at a party, a Cape Town t...</td>\n",
       "      <td>Blood &amp; Water   Ama Qamata, Khosi Ngema, Gail ...</td>\n",
       "    </tr>\n",
       "    <tr>\n",
       "      <th>2</th>\n",
       "      <td>TV Show</td>\n",
       "      <td>Ganglands</td>\n",
       "      <td>Julien Leclercq</td>\n",
       "      <td>Sami Bouajila, Tracy Gotoas, Samuel Jouy, Nabi...</td>\n",
       "      <td>To protect his family from a powerful drug lor...</td>\n",
       "      <td>Ganglands Julien Leclercq Sami Bouajila, Tracy...</td>\n",
       "    </tr>\n",
       "    <tr>\n",
       "      <th>3</th>\n",
       "      <td>TV Show</td>\n",
       "      <td>Jailbirds New Orleans</td>\n",
       "      <td></td>\n",
       "      <td></td>\n",
       "      <td>Feuds, flirtations and toilet talk go down amo...</td>\n",
       "      <td>Jailbirds New Orleans     Feuds, flirtations a...</td>\n",
       "    </tr>\n",
       "    <tr>\n",
       "      <th>4</th>\n",
       "      <td>TV Show</td>\n",
       "      <td>Kota Factory</td>\n",
       "      <td></td>\n",
       "      <td>Mayur More, Jitendra Kumar, Ranjan Raj, Alam K...</td>\n",
       "      <td>In a city of coaching centers known to train I...</td>\n",
       "      <td>Kota Factory   Mayur More, Jitendra Kumar, Ran...</td>\n",
       "    </tr>\n",
       "  </tbody>\n",
       "</table>\n",
       "</div>"
      ],
      "text/plain": [
       "      type                  title         director  \\\n",
       "0    Movie   Dick Johnson Is Dead  Kirsten Johnson   \n",
       "1  TV Show          Blood & Water                    \n",
       "2  TV Show              Ganglands  Julien Leclercq   \n",
       "3  TV Show  Jailbirds New Orleans                    \n",
       "4  TV Show           Kota Factory                    \n",
       "\n",
       "                                                cast  \\\n",
       "0                                                      \n",
       "1  Ama Qamata, Khosi Ngema, Gail Mabalane, Thaban...   \n",
       "2  Sami Bouajila, Tracy Gotoas, Samuel Jouy, Nabi...   \n",
       "3                                                      \n",
       "4  Mayur More, Jitendra Kumar, Ranjan Raj, Alam K...   \n",
       "\n",
       "                                         description  \\\n",
       "0  As her father nears the end of his life, filmm...   \n",
       "1  After crossing paths at a party, a Cape Town t...   \n",
       "2  To protect his family from a powerful drug lor...   \n",
       "3  Feuds, flirtations and toilet talk go down amo...   \n",
       "4  In a city of coaching centers known to train I...   \n",
       "\n",
       "                                   combined_features  \n",
       "0  Dick Johnson Is Dead Kirsten Johnson   As her ...  \n",
       "1  Blood & Water   Ama Qamata, Khosi Ngema, Gail ...  \n",
       "2  Ganglands Julien Leclercq Sami Bouajila, Tracy...  \n",
       "3  Jailbirds New Orleans     Feuds, flirtations a...  \n",
       "4  Kota Factory   Mayur More, Jitendra Kumar, Ran...  "
      ]
     },
     "execution_count": 13,
     "metadata": {},
     "output_type": "execute_result"
    }
   ],
   "source": [
    "df1['combined_features'] = combined_features\n",
    "df1.head()"
   ]
  },
  {
   "cell_type": "code",
   "execution_count": 14,
   "id": "db9d4978-2811-46ba-a8bf-6fd42c649ea3",
   "metadata": {},
   "outputs": [
    {
     "data": {
      "text/html": [
       "<div>\n",
       "<style scoped>\n",
       "    .dataframe tbody tr th:only-of-type {\n",
       "        vertical-align: middle;\n",
       "    }\n",
       "\n",
       "    .dataframe tbody tr th {\n",
       "        vertical-align: top;\n",
       "    }\n",
       "\n",
       "    .dataframe thead th {\n",
       "        text-align: right;\n",
       "    }\n",
       "</style>\n",
       "<table border=\"1\" class=\"dataframe\">\n",
       "  <thead>\n",
       "    <tr style=\"text-align: right;\">\n",
       "      <th></th>\n",
       "      <th>type</th>\n",
       "      <th>combined_features</th>\n",
       "    </tr>\n",
       "  </thead>\n",
       "  <tbody>\n",
       "    <tr>\n",
       "      <th>0</th>\n",
       "      <td>Movie</td>\n",
       "      <td>Dick Johnson Is Dead Kirsten Johnson   As her ...</td>\n",
       "    </tr>\n",
       "    <tr>\n",
       "      <th>1</th>\n",
       "      <td>TV Show</td>\n",
       "      <td>Blood &amp; Water   Ama Qamata, Khosi Ngema, Gail ...</td>\n",
       "    </tr>\n",
       "    <tr>\n",
       "      <th>2</th>\n",
       "      <td>TV Show</td>\n",
       "      <td>Ganglands Julien Leclercq Sami Bouajila, Tracy...</td>\n",
       "    </tr>\n",
       "    <tr>\n",
       "      <th>3</th>\n",
       "      <td>TV Show</td>\n",
       "      <td>Jailbirds New Orleans     Feuds, flirtations a...</td>\n",
       "    </tr>\n",
       "    <tr>\n",
       "      <th>4</th>\n",
       "      <td>TV Show</td>\n",
       "      <td>Kota Factory   Mayur More, Jitendra Kumar, Ran...</td>\n",
       "    </tr>\n",
       "  </tbody>\n",
       "</table>\n",
       "</div>"
      ],
      "text/plain": [
       "      type                                  combined_features\n",
       "0    Movie  Dick Johnson Is Dead Kirsten Johnson   As her ...\n",
       "1  TV Show  Blood & Water   Ama Qamata, Khosi Ngema, Gail ...\n",
       "2  TV Show  Ganglands Julien Leclercq Sami Bouajila, Tracy...\n",
       "3  TV Show  Jailbirds New Orleans     Feuds, flirtations a...\n",
       "4  TV Show  Kota Factory   Mayur More, Jitendra Kumar, Ran..."
      ]
     },
     "execution_count": 14,
     "metadata": {},
     "output_type": "execute_result"
    }
   ],
   "source": [
    "df2 = df1[['type','combined_features']]\n",
    "df2.head()"
   ]
  },
  {
   "cell_type": "code",
   "execution_count": 15,
   "id": "c2026edc-d20a-4c85-b6cc-8a9451fef17a",
   "metadata": {},
   "outputs": [],
   "source": [
    "# create a model of count vectorizer\n",
    "cv = CountVectorizer()"
   ]
  },
  {
   "cell_type": "code",
   "execution_count": 16,
   "id": "5c399e3c-bebe-4012-9ecb-118383a70e6d",
   "metadata": {},
   "outputs": [
    {
     "data": {
      "text/plain": [
       "array([[0, 0, 0, ..., 0, 0, 0],\n",
       "       [0, 0, 0, ..., 0, 0, 0],\n",
       "       [0, 0, 0, ..., 0, 0, 0],\n",
       "       ...,\n",
       "       [0, 0, 0, ..., 0, 0, 0],\n",
       "       [0, 0, 0, ..., 0, 0, 0],\n",
       "       [0, 0, 0, ..., 0, 0, 0]], dtype=int64)"
      ]
     },
     "execution_count": 16,
     "metadata": {},
     "output_type": "execute_result"
    }
   ],
   "source": [
    "vectors = cv.fit_transform(df2['combined_features']).toarray()\n",
    "vectors"
   ]
  },
  {
   "cell_type": "code",
   "execution_count": 17,
   "id": "851e4263-a46c-4266-a582-1b93aa9c1914",
   "metadata": {},
   "outputs": [
    {
     "data": {
      "text/plain": [
       "array([0, 0, 0, ..., 0, 0, 0], dtype=int64)"
      ]
     },
     "execution_count": 17,
     "metadata": {},
     "output_type": "execute_result"
    }
   ],
   "source": [
    "vectors[0]"
   ]
  },
  {
   "cell_type": "code",
   "execution_count": 18,
   "id": "e6226988-a9f1-47c9-9083-b7ec3bc8b2b5",
   "metadata": {},
   "outputs": [
    {
     "data": {
      "text/plain": [
       "array(['000', '007', '009', ..., '잡는다', '최강전사', '탄생'], dtype=object)"
      ]
     },
     "execution_count": 18,
     "metadata": {},
     "output_type": "execute_result"
    }
   ],
   "source": [
    "# access feature names/column names\n",
    "cv.get_feature_names_out()"
   ]
  },
  {
   "cell_type": "code",
   "execution_count": 19,
   "id": "88ceaa9a-1a06-44bf-87e7-ab60fe6a6c8d",
   "metadata": {},
   "outputs": [],
   "source": [
    "# to find cosine similarities because find a similarity between sentences with the help of cosine similarity\n",
    "similarities = cosine_similarity(vectors)"
   ]
  },
  {
   "cell_type": "code",
   "execution_count": 20,
   "id": "868b4264-25c6-4435-afed-7b3ff57d4231",
   "metadata": {},
   "outputs": [
    {
     "data": {
      "text/plain": [
       "array([[1.        , 0.05345225, 0.16699314, ..., 0.09548198, 0.08989331,\n",
       "        0.21295885],\n",
       "       [0.05345225, 1.        , 0.01673655, ..., 0.01913898, 0.        ,\n",
       "        0.        ],\n",
       "       [0.16699314, 0.01673655, 1.        , ..., 0.08968971, 0.04222003,\n",
       "        0.22004401],\n",
       "       ...,\n",
       "       [0.09548198, 0.01913898, 0.08968971, ..., 1.        , 0.09656091,\n",
       "        0.0457509 ],\n",
       "       [0.08989331, 0.        , 0.04222003, ..., 0.09656091, 1.        ,\n",
       "        0.04307305],\n",
       "       [0.21295885, 0.        , 0.22004401, ..., 0.0457509 , 0.04307305,\n",
       "        1.        ]])"
      ]
     },
     "execution_count": 20,
     "metadata": {},
     "output_type": "execute_result"
    }
   ],
   "source": [
    "similarities"
   ]
  },
  {
   "cell_type": "code",
   "execution_count": 21,
   "id": "65992219-20e4-470e-8c55-cb8b91530e48",
   "metadata": {},
   "outputs": [
    {
     "data": {
      "text/plain": [
       "(8807, 8807)"
      ]
     },
     "execution_count": 21,
     "metadata": {},
     "output_type": "execute_result"
    }
   ],
   "source": [
    "similarities.shape"
   ]
  },
  {
   "cell_type": "code",
   "execution_count": 22,
   "id": "0cd15a72-24ef-4f40-aa6d-ed253ce45d66",
   "metadata": {},
   "outputs": [
    {
     "data": {
      "text/plain": [
       "array([0.05345225, 1.        , 0.01673655, ..., 0.01913898, 0.        ,\n",
       "       0.        ])"
      ]
     },
     "execution_count": 22,
     "metadata": {},
     "output_type": "execute_result"
    }
   ],
   "source": [
    "similarities[1]"
   ]
  },
  {
   "cell_type": "code",
   "execution_count": 23,
   "id": "3a705768-17d3-46d6-8435-bfc9a52a65f9",
   "metadata": {},
   "outputs": [
    {
     "data": {
      "text/plain": [
       "1"
      ]
     },
     "execution_count": 23,
     "metadata": {},
     "output_type": "execute_result"
    }
   ],
   "source": [
    "# access index of movie name \n",
    "sorted_match = df1[df1['title']=='Blood & Water'].index[0]\n",
    "sorted_match"
   ]
  },
  {
   "cell_type": "code",
   "execution_count": 24,
   "id": "7ae5a687-9e67-4f30-ad98-451ddcb352ba",
   "metadata": {},
   "outputs": [
    {
     "data": {
      "text/plain": [
       "1"
      ]
     },
     "execution_count": 24,
     "metadata": {},
     "output_type": "execute_result"
    }
   ],
   "source": [
    "# access index of show type\n",
    "show_type = df1[df1['type'] == 'TV Show'].index[0]\n",
    "show_type"
   ]
  },
  {
   "cell_type": "code",
   "execution_count": 25,
   "id": "422d3772-d553-4faf-9bb4-8bbf3d9b6925",
   "metadata": {},
   "outputs": [
    {
     "data": {
      "text/plain": [
       "[(0, 1.0),\n",
       " (5233, 0.4427188724235731),\n",
       " (7015, 0.42459591394742013),\n",
       " (6660, 0.38245085529570716),\n",
       " (854, 0.3597091616898077),\n",
       " (4125, 0.3544587784792833)]"
      ]
     },
     "execution_count": 25,
     "metadata": {},
     "output_type": "execute_result"
    }
   ],
   "source": [
    "# similarities give distance of movie with the help of index, enumerate give the enumerate object of movie list use because to change enumerate \n",
    "# object in the particular format and sorted use for to sort movie distance(matches)\n",
    "sorted(list(enumerate(similarities[0])),key=(lambda x : x[1]),reverse = True)[0:6]"
   ]
  },
  {
   "cell_type": "code",
   "execution_count": 26,
   "id": "9312f3b8-1b14-4cde-b5f5-c033b0ce16ae",
   "metadata": {},
   "outputs": [],
   "source": [
    "# create a function for closest Movies/Tv shows\n",
    "def reccomended(movie):\n",
    "    movie_index = df1[df1[\"title\"] == movie].index[0]\n",
    "    dist = similarities[movie_index]\n",
    "    movie_list = sorted(list(enumerate(dist)),key=(lambda x : x[1]),reverse = True)[0:6]\n",
    "\n",
    "    for i in movie_list:\n",
    "        #print(i[0])\n",
    "         print(df1.iloc[i[0]].title)"
   ]
  },
  {
   "cell_type": "code",
   "execution_count": 27,
   "id": "d02ace11-4524-43c0-baaa-df025c4b07c9",
   "metadata": {},
   "outputs": [
    {
     "name": "stdout",
     "output_type": "stream",
     "text": [
      "Blood & Water\n",
      "Mom\n",
      "The Parkers\n",
      "Veronica\n",
      "Beiimaan Love\n",
      "The Boy Who Cried Werewolf\n"
     ]
    }
   ],
   "source": [
    "reccomended('Blood & Water')"
   ]
  },
  {
   "cell_type": "code",
   "execution_count": 28,
   "id": "711edd57-4998-4456-8b63-702634879f67",
   "metadata": {},
   "outputs": [],
   "source": [
    "# Create a function for identification of shows_type give a title they can give it's type\n",
    "def show_type(movie):\n",
    "    show_types_at_indices = df1.loc[sorted_match, \"type\"]\n",
    "    for j in df1['type']:\n",
    "     print(show_types_at_indices)\n",
    "     break"
   ]
  },
  {
   "cell_type": "code",
   "execution_count": 29,
   "id": "f620f4bf-90c2-480e-922c-cb6238c11001",
   "metadata": {},
   "outputs": [
    {
     "name": "stdout",
     "output_type": "stream",
     "text": [
      "TV Show\n"
     ]
    }
   ],
   "source": [
    "show_type('Blood & Water')"
   ]
  },
  {
   "cell_type": "code",
   "execution_count": 30,
   "id": "0b46dece-bc30-446c-87bf-4a9d417fd948",
   "metadata": {},
   "outputs": [
    {
     "name": "stdout",
     "output_type": "stream",
     "text": [
      "Blood & Water\n",
      "Mom\n",
      "The Parkers\n",
      "Veronica\n",
      "Beiimaan Love\n",
      "The Boy Who Cried Werewolf\n",
      "TV Show\n"
     ]
    }
   ],
   "source": [
    "# combined functions for if we pass a title they can give to both of you i.e. Recommendation as well as show type of that title\n",
    "def combined_show_function(show):\n",
    "    # Code from reccomendation\n",
    "    movie_index = df1[df1[\"title\"] == show].index[0]\n",
    "    dist = similarities[movie_index]\n",
    "    movie_list = sorted(list(enumerate(dist)), key=(lambda x: x[1]), reverse=True)[0:6]\n",
    "\n",
    "    for i in movie_list:\n",
    "        print(df1.iloc[i[0]].title)\n",
    "\n",
    "    # Code from show_type\n",
    "    show_types_at_indices = df1.loc[sorted_match, \"type\"]\n",
    "    for j in df1['type']:\n",
    "        print(show_types_at_indices)\n",
    "        break\n",
    "\n",
    "# Example usage\n",
    "combined_show_function('Blood & Water')"
   ]
  },
  {
   "cell_type": "code",
   "execution_count": null,
   "id": "95e2e2d9-cf78-4652-98f2-83a5bbf0fc56",
   "metadata": {},
   "outputs": [],
   "source": []
  }
 ],
 "metadata": {
  "kernelspec": {
   "display_name": "Python 3 (ipykernel)",
   "language": "python",
   "name": "python3"
  },
  "language_info": {
   "codemirror_mode": {
    "name": "ipython",
    "version": 3
   },
   "file_extension": ".py",
   "mimetype": "text/x-python",
   "name": "python",
   "nbconvert_exporter": "python",
   "pygments_lexer": "ipython3",
   "version": "3.11.5"
  },
  "widgets": {
   "application/vnd.jupyter.widget-state+json": {
    "state": {},
    "version_major": 2,
    "version_minor": 0
   }
  }
 },
 "nbformat": 4,
 "nbformat_minor": 5
}
